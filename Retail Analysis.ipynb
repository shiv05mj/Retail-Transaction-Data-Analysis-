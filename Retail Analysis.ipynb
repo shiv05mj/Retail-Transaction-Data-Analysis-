{
 "cells": [
  {
   "cell_type": "markdown",
   "id": "0e29b26e",
   "metadata": {},
   "source": [
    "### Importing necessary packages."
   ]
  },
  {
   "cell_type": "code",
   "execution_count": 1,
   "id": "95b14a8c",
   "metadata": {},
   "outputs": [],
   "source": [
    "import numpy as np\n",
    "import pandas as pd\n",
    "import matplotlib.pyplot as plt\n",
    "import seaborn as sns\n",
    "from datetime import datetime as dt"
   ]
  },
  {
   "cell_type": "markdown",
   "id": "d4987bf0",
   "metadata": {},
   "source": [
    "# 1.Data Preparation"
   ]
  },
  {
   "cell_type": "markdown",
   "id": "42e7702f",
   "metadata": {},
   "source": [
    "### 1.1 Get Data"
   ]
  },
  {
   "cell_type": "code",
   "execution_count": 2,
   "id": "5c262cf8",
   "metadata": {},
   "outputs": [],
   "source": [
    "rt = pd.read_csv(\"Retail Transactions.csv\") #reading csv file using pandas library."
   ]
  },
  {
   "cell_type": "code",
   "execution_count": 3,
   "id": "70f557d0",
   "metadata": {},
   "outputs": [
    {
     "data": {
      "text/html": [
       "<div>\n",
       "<style scoped>\n",
       "    .dataframe tbody tr th:only-of-type {\n",
       "        vertical-align: middle;\n",
       "    }\n",
       "\n",
       "    .dataframe tbody tr th {\n",
       "        vertical-align: top;\n",
       "    }\n",
       "\n",
       "    .dataframe thead th {\n",
       "        text-align: right;\n",
       "    }\n",
       "</style>\n",
       "<table border=\"1\" class=\"dataframe\">\n",
       "  <thead>\n",
       "    <tr style=\"text-align: right;\">\n",
       "      <th></th>\n",
       "      <th>transaction_date</th>\n",
       "      <th>transaction_hour</th>\n",
       "      <th>location_state</th>\n",
       "      <th>location_city</th>\n",
       "      <th>rewards_number</th>\n",
       "      <th>rewards_member</th>\n",
       "      <th>num_of_items</th>\n",
       "      <th>coupon_flag</th>\n",
       "      <th>discount_amt</th>\n",
       "      <th>order_amt</th>\n",
       "    </tr>\n",
       "  </thead>\n",
       "  <tbody>\n",
       "    <tr>\n",
       "      <th>0</th>\n",
       "      <td>6/24/2020</td>\n",
       "      <td>1:26 PM</td>\n",
       "      <td>Florida</td>\n",
       "      <td>Miami</td>\n",
       "      <td>223-472-61</td>\n",
       "      <td>True</td>\n",
       "      <td>22</td>\n",
       "      <td>NaN</td>\n",
       "      <td>NaN</td>\n",
       "      <td>$213.68</td>\n",
       "    </tr>\n",
       "    <tr>\n",
       "      <th>1</th>\n",
       "      <td>5/15/2020</td>\n",
       "      <td>2:11 PM</td>\n",
       "      <td>South Carolina</td>\n",
       "      <td>Greenville</td>\n",
       "      <td>NaN</td>\n",
       "      <td>NaN</td>\n",
       "      <td>13</td>\n",
       "      <td>Yes</td>\n",
       "      <td>0.33</td>\n",
       "      <td>$155.59</td>\n",
       "    </tr>\n",
       "    <tr>\n",
       "      <th>2</th>\n",
       "      <td>2/20/2020</td>\n",
       "      <td>12:33 PM</td>\n",
       "      <td>Georgia</td>\n",
       "      <td>Atlanta</td>\n",
       "      <td>204-941-15</td>\n",
       "      <td>True</td>\n",
       "      <td>22</td>\n",
       "      <td>NaN</td>\n",
       "      <td>NaN</td>\n",
       "      <td>$106.82</td>\n",
       "    </tr>\n",
       "    <tr>\n",
       "      <th>3</th>\n",
       "      <td>7/22/2020</td>\n",
       "      <td>4:56 PM</td>\n",
       "      <td>Florida</td>\n",
       "      <td>Sarasota</td>\n",
       "      <td>446-940-80</td>\n",
       "      <td>True</td>\n",
       "      <td>17</td>\n",
       "      <td>Yes</td>\n",
       "      <td>0.25</td>\n",
       "      <td>$169.14</td>\n",
       "    </tr>\n",
       "    <tr>\n",
       "      <th>4</th>\n",
       "      <td>1/31/2020</td>\n",
       "      <td>7:53 PM</td>\n",
       "      <td>Florida</td>\n",
       "      <td>Pensacola</td>\n",
       "      <td>NaN</td>\n",
       "      <td>NaN</td>\n",
       "      <td>8</td>\n",
       "      <td>NaN</td>\n",
       "      <td>NaN</td>\n",
       "      <td>$72.93</td>\n",
       "    </tr>\n",
       "  </tbody>\n",
       "</table>\n",
       "</div>"
      ],
      "text/plain": [
       "  transaction_date transaction_hour  location_state location_city  \\\n",
       "0        6/24/2020          1:26 PM         Florida         Miami   \n",
       "1        5/15/2020          2:11 PM  South Carolina    Greenville   \n",
       "2        2/20/2020         12:33 PM         Georgia       Atlanta   \n",
       "3        7/22/2020          4:56 PM         Florida      Sarasota   \n",
       "4        1/31/2020          7:53 PM         Florida     Pensacola   \n",
       "\n",
       "  rewards_number rewards_member  num_of_items coupon_flag  discount_amt  \\\n",
       "0     223-472-61           True            22         NaN           NaN   \n",
       "1            NaN            NaN            13         Yes          0.33   \n",
       "2     204-941-15           True            22         NaN           NaN   \n",
       "3     446-940-80           True            17         Yes          0.25   \n",
       "4            NaN            NaN             8         NaN           NaN   \n",
       "\n",
       "  order_amt  \n",
       "0   $213.68  \n",
       "1   $155.59  \n",
       "2   $106.82  \n",
       "3   $169.14  \n",
       "4    $72.93  "
      ]
     },
     "execution_count": 3,
     "metadata": {},
     "output_type": "execute_result"
    }
   ],
   "source": [
    "rt.head() # fetching top 5 values from the files "
   ]
  },
  {
   "cell_type": "code",
   "execution_count": 4,
   "id": "e4f66fc1",
   "metadata": {},
   "outputs": [
    {
     "name": "stdout",
     "output_type": "stream",
     "text": [
      "<class 'pandas.core.frame.DataFrame'>\n",
      "RangeIndex: 75620 entries, 0 to 75619\n",
      "Data columns (total 10 columns):\n",
      " #   Column            Non-Null Count  Dtype  \n",
      "---  ------            --------------  -----  \n",
      " 0   transaction_date  75620 non-null  object \n",
      " 1   transaction_hour  75620 non-null  object \n",
      " 2   location_state    75620 non-null  object \n",
      " 3   location_city     75620 non-null  object \n",
      " 4   rewards_number    43923 non-null  object \n",
      " 5   rewards_member    43923 non-null  object \n",
      " 6   num_of_items      75620 non-null  int64  \n",
      " 7   coupon_flag       20942 non-null  object \n",
      " 8   discount_amt      20942 non-null  float64\n",
      " 9   order_amt         75620 non-null  object \n",
      "dtypes: float64(1), int64(1), object(8)\n",
      "memory usage: 5.8+ MB\n"
     ]
    }
   ],
   "source": [
    "rt.info() #fetching information about Retail Transaction file with columns names, non-null count, dtypes, size etc."
   ]
  },
  {
   "cell_type": "code",
   "execution_count": 5,
   "id": "4476384f",
   "metadata": {},
   "outputs": [
    {
     "data": {
      "text/plain": [
       "Index(['transaction_date', 'transaction_hour', 'location_state',\n",
       "       'location_city', 'rewards_number', 'rewards_member', 'num_of_items',\n",
       "       'coupon_flag', 'discount_amt', 'order_amt'],\n",
       "      dtype='object')"
      ]
     },
     "execution_count": 5,
     "metadata": {},
     "output_type": "execute_result"
    }
   ],
   "source": [
    "rt.columns #all columns names"
   ]
  },
  {
   "cell_type": "markdown",
   "id": "f455bc4e",
   "metadata": {},
   "source": [
    "### 1.2 Converting data types "
   ]
  },
  {
   "cell_type": "code",
   "execution_count": 6,
   "id": "de555504",
   "metadata": {},
   "outputs": [],
   "source": [
    "# converting 'transaction_date' and 'transaction_hour' to datetime datatype\n",
    "rt['transaction_date']= pd.to_datetime(rt['transaction_date'])\n"
   ]
  },
  {
   "cell_type": "code",
   "execution_count": 7,
   "id": "8d331e93",
   "metadata": {},
   "outputs": [],
   "source": [
    "#removing dollar symbol from 'order_amt' and converting to float\n",
    "rt['order_amt']= rt['order_amt'].replace('[\\$,]',' ',regex=True).astype(float)"
   ]
  },
  {
   "cell_type": "markdown",
   "id": "af1d0ec1",
   "metadata": {},
   "source": [
    "### 1.3 Removing unnecessary columns"
   ]
  },
  {
   "cell_type": "code",
   "execution_count": 8,
   "id": "d681ddfc",
   "metadata": {},
   "outputs": [],
   "source": [
    "#removing unnecessary columns like 'rewards_number', 'rewards_member','coupon_flag'\n",
    "rt.drop(['rewards_number', 'rewards_member','coupon_flag'],axis=1,inplace=True)\n"
   ]
  },
  {
   "cell_type": "markdown",
   "id": "788366a7",
   "metadata": {},
   "source": [
    "### 1.4 Checking and removing null values"
   ]
  },
  {
   "cell_type": "code",
   "execution_count": 9,
   "id": "38f86939",
   "metadata": {},
   "outputs": [
    {
     "data": {
      "text/plain": [
       "transaction_date        0\n",
       "transaction_hour        0\n",
       "location_state          0\n",
       "location_city           0\n",
       "num_of_items            0\n",
       "discount_amt        54678\n",
       "order_amt               0\n",
       "dtype: int64"
      ]
     },
     "execution_count": 9,
     "metadata": {},
     "output_type": "execute_result"
    }
   ],
   "source": [
    "rt.isnull().sum()"
   ]
  },
  {
   "cell_type": "markdown",
   "id": "c5b5c0e7",
   "metadata": {},
   "source": [
    "### 1.5 Checking and removing duplicate values"
   ]
  },
  {
   "cell_type": "code",
   "execution_count": 10,
   "id": "72587d4d",
   "metadata": {},
   "outputs": [
    {
     "data": {
      "text/plain": [
       "0"
      ]
     },
     "execution_count": 10,
     "metadata": {},
     "output_type": "execute_result"
    }
   ],
   "source": [
    "#checking and removing duplicates\n",
    "rt.duplicated().sum()"
   ]
  },
  {
   "cell_type": "markdown",
   "id": "432ec2f4",
   "metadata": {},
   "source": [
    "# 2. Data exploration"
   ]
  },
  {
   "cell_type": "markdown",
   "id": "00b7129d",
   "metadata": {},
   "source": [
    "### 2.1 Describe"
   ]
  },
  {
   "cell_type": "code",
   "execution_count": 11,
   "id": "709c8a67",
   "metadata": {},
   "outputs": [
    {
     "data": {
      "text/html": [
       "<div>\n",
       "<style scoped>\n",
       "    .dataframe tbody tr th:only-of-type {\n",
       "        vertical-align: middle;\n",
       "    }\n",
       "\n",
       "    .dataframe tbody tr th {\n",
       "        vertical-align: top;\n",
       "    }\n",
       "\n",
       "    .dataframe thead th {\n",
       "        text-align: right;\n",
       "    }\n",
       "</style>\n",
       "<table border=\"1\" class=\"dataframe\">\n",
       "  <thead>\n",
       "    <tr style=\"text-align: right;\">\n",
       "      <th></th>\n",
       "      <th>num_of_items</th>\n",
       "      <th>discount_amt</th>\n",
       "      <th>order_amt</th>\n",
       "    </tr>\n",
       "  </thead>\n",
       "  <tbody>\n",
       "    <tr>\n",
       "      <th>count</th>\n",
       "      <td>75620.000000</td>\n",
       "      <td>20942.000000</td>\n",
       "      <td>75620.000000</td>\n",
       "    </tr>\n",
       "    <tr>\n",
       "      <th>mean</th>\n",
       "      <td>18.455104</td>\n",
       "      <td>0.298487</td>\n",
       "      <td>127.701324</td>\n",
       "    </tr>\n",
       "    <tr>\n",
       "      <th>std</th>\n",
       "      <td>9.201330</td>\n",
       "      <td>0.115625</td>\n",
       "      <td>62.798827</td>\n",
       "    </tr>\n",
       "    <tr>\n",
       "      <th>min</th>\n",
       "      <td>3.000000</td>\n",
       "      <td>0.100000</td>\n",
       "      <td>19.000000</td>\n",
       "    </tr>\n",
       "    <tr>\n",
       "      <th>25%</th>\n",
       "      <td>10.000000</td>\n",
       "      <td>0.200000</td>\n",
       "      <td>73.197500</td>\n",
       "    </tr>\n",
       "    <tr>\n",
       "      <th>50%</th>\n",
       "      <td>18.000000</td>\n",
       "      <td>0.300000</td>\n",
       "      <td>127.700000</td>\n",
       "    </tr>\n",
       "    <tr>\n",
       "      <th>75%</th>\n",
       "      <td>26.000000</td>\n",
       "      <td>0.400000</td>\n",
       "      <td>182.110000</td>\n",
       "    </tr>\n",
       "    <tr>\n",
       "      <th>max</th>\n",
       "      <td>34.000000</td>\n",
       "      <td>0.500000</td>\n",
       "      <td>236.000000</td>\n",
       "    </tr>\n",
       "  </tbody>\n",
       "</table>\n",
       "</div>"
      ],
      "text/plain": [
       "       num_of_items  discount_amt     order_amt\n",
       "count  75620.000000  20942.000000  75620.000000\n",
       "mean      18.455104      0.298487    127.701324\n",
       "std        9.201330      0.115625     62.798827\n",
       "min        3.000000      0.100000     19.000000\n",
       "25%       10.000000      0.200000     73.197500\n",
       "50%       18.000000      0.300000    127.700000\n",
       "75%       26.000000      0.400000    182.110000\n",
       "max       34.000000      0.500000    236.000000"
      ]
     },
     "execution_count": 11,
     "metadata": {},
     "output_type": "execute_result"
    }
   ],
   "source": [
    "rt.describe()       #describe function gives all statistical information"
   ]
  },
  {
   "cell_type": "markdown",
   "id": "3ead51b4",
   "metadata": {},
   "source": [
    "### 2.1 Correlation"
   ]
  },
  {
   "cell_type": "code",
   "execution_count": 12,
   "id": "e16cf2b2",
   "metadata": {},
   "outputs": [
    {
     "data": {
      "text/html": [
       "<div>\n",
       "<style scoped>\n",
       "    .dataframe tbody tr th:only-of-type {\n",
       "        vertical-align: middle;\n",
       "    }\n",
       "\n",
       "    .dataframe tbody tr th {\n",
       "        vertical-align: top;\n",
       "    }\n",
       "\n",
       "    .dataframe thead th {\n",
       "        text-align: right;\n",
       "    }\n",
       "</style>\n",
       "<table border=\"1\" class=\"dataframe\">\n",
       "  <thead>\n",
       "    <tr style=\"text-align: right;\">\n",
       "      <th></th>\n",
       "      <th>num_of_items</th>\n",
       "      <th>discount_amt</th>\n",
       "      <th>order_amt</th>\n",
       "    </tr>\n",
       "  </thead>\n",
       "  <tbody>\n",
       "    <tr>\n",
       "      <th>num_of_items</th>\n",
       "      <td>1.000000</td>\n",
       "      <td>-0.006545</td>\n",
       "      <td>-0.002770</td>\n",
       "    </tr>\n",
       "    <tr>\n",
       "      <th>discount_amt</th>\n",
       "      <td>-0.006545</td>\n",
       "      <td>1.000000</td>\n",
       "      <td>0.000909</td>\n",
       "    </tr>\n",
       "    <tr>\n",
       "      <th>order_amt</th>\n",
       "      <td>-0.002770</td>\n",
       "      <td>0.000909</td>\n",
       "      <td>1.000000</td>\n",
       "    </tr>\n",
       "  </tbody>\n",
       "</table>\n",
       "</div>"
      ],
      "text/plain": [
       "              num_of_items  discount_amt  order_amt\n",
       "num_of_items      1.000000     -0.006545  -0.002770\n",
       "discount_amt     -0.006545      1.000000   0.000909\n",
       "order_amt        -0.002770      0.000909   1.000000"
      ]
     },
     "execution_count": 12,
     "metadata": {},
     "output_type": "execute_result"
    }
   ],
   "source": [
    "rt.corr()    #correaltion between numerical fields are given"
   ]
  },
  {
   "cell_type": "code",
   "execution_count": 13,
   "id": "b5faa5cc",
   "metadata": {},
   "outputs": [
    {
     "data": {
      "text/plain": [
       "<AxesSubplot:>"
      ]
     },
     "execution_count": 13,
     "metadata": {},
     "output_type": "execute_result"
    },
    {
     "data": {
      "image/png": "[encoded data removed]",
      "text/plain": [
       "<Figure size 432x288 with 2 Axes>"
      ]
     },
     "metadata": {
      "needs_background": "light"
     },
     "output_type": "display_data"
    }
   ],
   "source": [
    "sns.heatmap(rt.corr())  #representing correaltion with heatmap"
   ]
  },
  {
   "cell_type": "markdown",
   "id": "d116da8a",
   "metadata": {},
   "source": [
    "# 3. Data analysis"
   ]
  },
  {
   "cell_type": "markdown",
   "id": "cf6f9e13",
   "metadata": {},
   "source": [
    "### 3.1. Transactions count by year/months\n"
   ]
  },
  {
   "cell_type": "code",
   "execution_count": 14,
   "id": "12d63809",
   "metadata": {},
   "outputs": [],
   "source": [
    "rt['month_year']=rt['transaction_date'].apply(lambda x: x.strftime('%Y-%m'))"
   ]
  },
  {
   "cell_type": "code",
   "execution_count": 15,
   "id": "fc6df607",
   "metadata": {},
   "outputs": [
    {
     "data": {
      "text/html": [
       "<div>\n",
       "<style scoped>\n",
       "    .dataframe tbody tr th:only-of-type {\n",
       "        vertical-align: middle;\n",
       "    }\n",
       "\n",
       "    .dataframe tbody tr th {\n",
       "        vertical-align: top;\n",
       "    }\n",
       "\n",
       "    .dataframe thead th {\n",
       "        text-align: right;\n",
       "    }\n",
       "</style>\n",
       "<table border=\"1\" class=\"dataframe\">\n",
       "  <thead>\n",
       "    <tr style=\"text-align: right;\">\n",
       "      <th></th>\n",
       "      <th>month_year</th>\n",
       "      <th>num_of_items</th>\n",
       "    </tr>\n",
       "  </thead>\n",
       "  <tbody>\n",
       "    <tr>\n",
       "      <th>0</th>\n",
       "      <td>2019-10</td>\n",
       "      <td>107006</td>\n",
       "    </tr>\n",
       "    <tr>\n",
       "      <th>1</th>\n",
       "      <td>2019-11</td>\n",
       "      <td>104576</td>\n",
       "    </tr>\n",
       "    <tr>\n",
       "      <th>2</th>\n",
       "      <td>2019-12</td>\n",
       "      <td>113406</td>\n",
       "    </tr>\n",
       "    <tr>\n",
       "      <th>3</th>\n",
       "      <td>2020-01</td>\n",
       "      <td>106600</td>\n",
       "    </tr>\n",
       "    <tr>\n",
       "      <th>4</th>\n",
       "      <td>2020-02</td>\n",
       "      <td>102861</td>\n",
       "    </tr>\n",
       "    <tr>\n",
       "      <th>5</th>\n",
       "      <td>2020-03</td>\n",
       "      <td>109861</td>\n",
       "    </tr>\n",
       "    <tr>\n",
       "      <th>6</th>\n",
       "      <td>2020-04</td>\n",
       "      <td>104425</td>\n",
       "    </tr>\n",
       "    <tr>\n",
       "      <th>7</th>\n",
       "      <td>2020-05</td>\n",
       "      <td>109991</td>\n",
       "    </tr>\n",
       "    <tr>\n",
       "      <th>8</th>\n",
       "      <td>2020-06</td>\n",
       "      <td>104602</td>\n",
       "    </tr>\n",
       "    <tr>\n",
       "      <th>9</th>\n",
       "      <td>2020-07</td>\n",
       "      <td>109719</td>\n",
       "    </tr>\n",
       "    <tr>\n",
       "      <th>10</th>\n",
       "      <td>2020-08</td>\n",
       "      <td>111633</td>\n",
       "    </tr>\n",
       "    <tr>\n",
       "      <th>11</th>\n",
       "      <td>2020-09</td>\n",
       "      <td>103137</td>\n",
       "    </tr>\n",
       "    <tr>\n",
       "      <th>12</th>\n",
       "      <td>2020-10</td>\n",
       "      <td>107758</td>\n",
       "    </tr>\n",
       "  </tbody>\n",
       "</table>\n",
       "</div>"
      ],
      "text/plain": [
       "   month_year  num_of_items\n",
       "0     2019-10        107006\n",
       "1     2019-11        104576\n",
       "2     2019-12        113406\n",
       "3     2020-01        106600\n",
       "4     2020-02        102861\n",
       "5     2020-03        109861\n",
       "6     2020-04        104425\n",
       "7     2020-05        109991\n",
       "8     2020-06        104602\n",
       "9     2020-07        109719\n",
       "10    2020-08        111633\n",
       "11    2020-09        103137\n",
       "12    2020-10        107758"
      ]
     },
     "execution_count": 15,
     "metadata": {},
     "output_type": "execute_result"
    }
   ],
   "source": [
    "items_sold= rt.groupby('month_year').sum()['num_of_items'].reset_index()\n",
    "items_sold"
   ]
  },
  {
   "cell_type": "code",
   "execution_count": 16,
   "id": "e028518a",
   "metadata": {},
   "outputs": [
    {
     "data": {
      "image/png": "[encoded data removed]",
      "text/plain": [
       "<Figure size 864x360 with 1 Axes>"
      ]
     },
     "metadata": {
      "needs_background": "light"
     },
     "output_type": "display_data"
    }
   ],
   "source": [
    "#plotting items sold count by month/year\n",
    "plt.figure(figsize=(12,5))\n",
    "plt.title(\"Items Sold Count By Month/Year\",size=20)\n",
    "plt.xlabel(\"Month and Year\")\n",
    "plt.ylabel(\"Number of items\")\n",
    "\n",
    "plt.plot(items_sold['month_year'],items_sold['num_of_items'],color='red')\n",
    "plt.show()"
   ]
  },
  {
   "cell_type": "markdown",
   "id": "de575049",
   "metadata": {},
   "source": [
    "### 3.2. Order amount by year/month"
   ]
  },
  {
   "cell_type": "code",
   "execution_count": 17,
   "id": "44c12fdd",
   "metadata": {},
   "outputs": [
    {
     "data": {
      "text/html": [
       "<div>\n",
       "<style scoped>\n",
       "    .dataframe tbody tr th:only-of-type {\n",
       "        vertical-align: middle;\n",
       "    }\n",
       "\n",
       "    .dataframe tbody tr th {\n",
       "        vertical-align: top;\n",
       "    }\n",
       "\n",
       "    .dataframe thead th {\n",
       "        text-align: right;\n",
       "    }\n",
       "</style>\n",
       "<table border=\"1\" class=\"dataframe\">\n",
       "  <thead>\n",
       "    <tr style=\"text-align: right;\">\n",
       "      <th></th>\n",
       "      <th>month_year</th>\n",
       "      <th>num_of_items</th>\n",
       "      <th>discount_amt</th>\n",
       "      <th>order_amt</th>\n",
       "    </tr>\n",
       "  </thead>\n",
       "  <tbody>\n",
       "    <tr>\n",
       "      <th>0</th>\n",
       "      <td>2019-10</td>\n",
       "      <td>107006</td>\n",
       "      <td>480.86</td>\n",
       "      <td>750063.34</td>\n",
       "    </tr>\n",
       "    <tr>\n",
       "      <th>1</th>\n",
       "      <td>2019-11</td>\n",
       "      <td>104576</td>\n",
       "      <td>471.10</td>\n",
       "      <td>725738.54</td>\n",
       "    </tr>\n",
       "    <tr>\n",
       "      <th>2</th>\n",
       "      <td>2019-12</td>\n",
       "      <td>113406</td>\n",
       "      <td>495.53</td>\n",
       "      <td>767506.37</td>\n",
       "    </tr>\n",
       "    <tr>\n",
       "      <th>3</th>\n",
       "      <td>2020-01</td>\n",
       "      <td>106600</td>\n",
       "      <td>468.12</td>\n",
       "      <td>742620.38</td>\n",
       "    </tr>\n",
       "    <tr>\n",
       "      <th>4</th>\n",
       "      <td>2020-02</td>\n",
       "      <td>102861</td>\n",
       "      <td>469.64</td>\n",
       "      <td>707427.85</td>\n",
       "    </tr>\n",
       "    <tr>\n",
       "      <th>5</th>\n",
       "      <td>2020-03</td>\n",
       "      <td>109861</td>\n",
       "      <td>492.17</td>\n",
       "      <td>756138.86</td>\n",
       "    </tr>\n",
       "    <tr>\n",
       "      <th>6</th>\n",
       "      <td>2020-04</td>\n",
       "      <td>104425</td>\n",
       "      <td>467.36</td>\n",
       "      <td>723120.60</td>\n",
       "    </tr>\n",
       "    <tr>\n",
       "      <th>7</th>\n",
       "      <td>2020-05</td>\n",
       "      <td>109991</td>\n",
       "      <td>511.26</td>\n",
       "      <td>766743.63</td>\n",
       "    </tr>\n",
       "    <tr>\n",
       "      <th>8</th>\n",
       "      <td>2020-06</td>\n",
       "      <td>104602</td>\n",
       "      <td>471.80</td>\n",
       "      <td>721433.03</td>\n",
       "    </tr>\n",
       "    <tr>\n",
       "      <th>9</th>\n",
       "      <td>2020-07</td>\n",
       "      <td>109719</td>\n",
       "      <td>480.60</td>\n",
       "      <td>766266.18</td>\n",
       "    </tr>\n",
       "    <tr>\n",
       "      <th>10</th>\n",
       "      <td>2020-08</td>\n",
       "      <td>111633</td>\n",
       "      <td>489.20</td>\n",
       "      <td>777129.60</td>\n",
       "    </tr>\n",
       "    <tr>\n",
       "      <th>11</th>\n",
       "      <td>2020-09</td>\n",
       "      <td>103137</td>\n",
       "      <td>488.78</td>\n",
       "      <td>719978.44</td>\n",
       "    </tr>\n",
       "    <tr>\n",
       "      <th>12</th>\n",
       "      <td>2020-10</td>\n",
       "      <td>107758</td>\n",
       "      <td>464.49</td>\n",
       "      <td>732607.31</td>\n",
       "    </tr>\n",
       "  </tbody>\n",
       "</table>\n",
       "</div>"
      ],
      "text/plain": [
       "   month_year  num_of_items  discount_amt  order_amt\n",
       "0     2019-10        107006        480.86  750063.34\n",
       "1     2019-11        104576        471.10  725738.54\n",
       "2     2019-12        113406        495.53  767506.37\n",
       "3     2020-01        106600        468.12  742620.38\n",
       "4     2020-02        102861        469.64  707427.85\n",
       "5     2020-03        109861        492.17  756138.86\n",
       "6     2020-04        104425        467.36  723120.60\n",
       "7     2020-05        109991        511.26  766743.63\n",
       "8     2020-06        104602        471.80  721433.03\n",
       "9     2020-07        109719        480.60  766266.18\n",
       "10    2020-08        111633        489.20  777129.60\n",
       "11    2020-09        103137        488.78  719978.44\n",
       "12    2020-10        107758        464.49  732607.31"
      ]
     },
     "execution_count": 17,
     "metadata": {},
     "output_type": "execute_result"
    }
   ],
   "source": [
    "sales_by_my= rt.groupby('month_year').sum().reset_index()\n",
    "sales_by_my"
   ]
  },
  {
   "cell_type": "code",
   "execution_count": 18,
   "id": "64e595cd",
   "metadata": {},
   "outputs": [
    {
     "data": {
      "image/png": "[encoded data removed]",
      "text/plain": [
       "<Figure size 864x360 with 1 Axes>"
      ]
     },
     "metadata": {
      "needs_background": "light"
     },
     "output_type": "display_data"
    }
   ],
   "source": [
    "#plotting trends of transactions over period of time\n",
    "plt.figure(figsize=(12,5))\n",
    "plt.title(\"Sales Trend Over Time\",size=20)\n",
    "plt.xlabel(\"Month and Year\")\n",
    "plt.ylabel(\"Order amount\")\n",
    "\n",
    "plt.plot(sales_by_my['month_year'],sales_by_my['order_amt'],color='blue')\n",
    "plt.show()"
   ]
  },
  {
   "cell_type": "markdown",
   "id": "e699072c",
   "metadata": {},
   "source": [
    "### 3.3. Items sold by hours"
   ]
  },
  {
   "cell_type": "code",
   "execution_count": 19,
   "id": "735c4549",
   "metadata": {},
   "outputs": [],
   "source": [
    "rt['transaction_hour']=rt['transaction_hour'].str.replace(\" \",\"\")"
   ]
  },
  {
   "cell_type": "code",
   "execution_count": 20,
   "id": "1b6d6ebf",
   "metadata": {},
   "outputs": [],
   "source": [
    "time=[]\n",
    "for i in rt['transaction_hour']:\n",
    "    j=dt.strptime(i,'%I:%M%p')\n",
    "    time.append(dt.strftime(j,'%H'))"
   ]
  },
  {
   "cell_type": "code",
   "execution_count": 21,
   "id": "97ea3f06",
   "metadata": {},
   "outputs": [
    {
     "data": {
      "text/plain": [
       "0        13\n",
       "1        14\n",
       "2        12\n",
       "3        16\n",
       "4        19\n",
       "         ..\n",
       "75615    17\n",
       "75616    16\n",
       "75617    15\n",
       "75618    13\n",
       "75619    11\n",
       "Name: hour, Length: 75620, dtype: int32"
      ]
     },
     "execution_count": 21,
     "metadata": {},
     "output_type": "execute_result"
    }
   ],
   "source": [
    "rt['hour']=time\n",
    "rt['hour'].astype('int')"
   ]
  },
  {
   "cell_type": "code",
   "execution_count": 22,
   "id": "f6a96382",
   "metadata": {},
   "outputs": [
    {
     "data": {
      "text/html": [
       "<div>\n",
       "<style scoped>\n",
       "    .dataframe tbody tr th:only-of-type {\n",
       "        vertical-align: middle;\n",
       "    }\n",
       "\n",
       "    .dataframe tbody tr th {\n",
       "        vertical-align: top;\n",
       "    }\n",
       "\n",
       "    .dataframe thead th {\n",
       "        text-align: right;\n",
       "    }\n",
       "</style>\n",
       "<table border=\"1\" class=\"dataframe\">\n",
       "  <thead>\n",
       "    <tr style=\"text-align: right;\">\n",
       "      <th></th>\n",
       "      <th>hour</th>\n",
       "      <th>num_of_items</th>\n",
       "    </tr>\n",
       "  </thead>\n",
       "  <tbody>\n",
       "    <tr>\n",
       "      <th>0</th>\n",
       "      <td>11</td>\n",
       "      <td>140421</td>\n",
       "    </tr>\n",
       "    <tr>\n",
       "      <th>1</th>\n",
       "      <td>12</td>\n",
       "      <td>140217</td>\n",
       "    </tr>\n",
       "    <tr>\n",
       "      <th>2</th>\n",
       "      <td>13</td>\n",
       "      <td>140758</td>\n",
       "    </tr>\n",
       "    <tr>\n",
       "      <th>3</th>\n",
       "      <td>14</td>\n",
       "      <td>139789</td>\n",
       "    </tr>\n",
       "    <tr>\n",
       "      <th>4</th>\n",
       "      <td>15</td>\n",
       "      <td>137786</td>\n",
       "    </tr>\n",
       "    <tr>\n",
       "      <th>5</th>\n",
       "      <td>16</td>\n",
       "      <td>140568</td>\n",
       "    </tr>\n",
       "    <tr>\n",
       "      <th>6</th>\n",
       "      <td>17</td>\n",
       "      <td>142713</td>\n",
       "    </tr>\n",
       "    <tr>\n",
       "      <th>7</th>\n",
       "      <td>18</td>\n",
       "      <td>136688</td>\n",
       "    </tr>\n",
       "    <tr>\n",
       "      <th>8</th>\n",
       "      <td>19</td>\n",
       "      <td>137568</td>\n",
       "    </tr>\n",
       "    <tr>\n",
       "      <th>9</th>\n",
       "      <td>20</td>\n",
       "      <td>139029</td>\n",
       "    </tr>\n",
       "    <tr>\n",
       "      <th>10</th>\n",
       "      <td>21</td>\n",
       "      <td>38</td>\n",
       "    </tr>\n",
       "  </tbody>\n",
       "</table>\n",
       "</div>"
      ],
      "text/plain": [
       "   hour  num_of_items\n",
       "0    11        140421\n",
       "1    12        140217\n",
       "2    13        140758\n",
       "3    14        139789\n",
       "4    15        137786\n",
       "5    16        140568\n",
       "6    17        142713\n",
       "7    18        136688\n",
       "8    19        137568\n",
       "9    20        139029\n",
       "10   21            38"
      ]
     },
     "execution_count": 22,
     "metadata": {},
     "output_type": "execute_result"
    }
   ],
   "source": [
    "itemssold_by_hours=rt.groupby('hour').sum()['num_of_items'].reset_index()\n",
    "itemssold_by_hours"
   ]
  },
  {
   "cell_type": "code",
   "execution_count": 23,
   "id": "074a29e2",
   "metadata": {},
   "outputs": [
    {
     "data": {
      "text/plain": [
       "<AxesSubplot:xlabel='hour', ylabel='num_of_items'>"
      ]
     },
     "execution_count": 23,
     "metadata": {},
     "output_type": "execute_result"
    },
    {
     "data": {
      "image/png": "[encoded data removed]",
      "text/plain": [
       "<Figure size 432x288 with 1 Axes>"
      ]
     },
     "metadata": {
      "needs_background": "light"
     },
     "output_type": "display_data"
    }
   ],
   "source": [
    "sns.pointplot(x=itemssold_by_hours['hour'],y=itemssold_by_hours['num_of_items'])"
   ]
  },
  {
   "cell_type": "markdown",
   "id": "6f3f3438",
   "metadata": {},
   "source": [
    "### 3.4 Sales by state"
   ]
  },
  {
   "cell_type": "code",
   "execution_count": 24,
   "id": "6b9121b6",
   "metadata": {},
   "outputs": [],
   "source": [
    "sales_state=rt.groupby('location_state').sum()['order_amt'].reset_index()"
   ]
  },
  {
   "cell_type": "code",
   "execution_count": 25,
   "id": "e4f15f13",
   "metadata": {},
   "outputs": [
    {
     "data": {
      "image/png": "[encoded data removed]",
      "text/plain": [
       "<Figure size 504x360 with 1 Axes>"
      ]
     },
     "metadata": {
      "needs_background": "light"
     },
     "output_type": "display_data"
    }
   ],
   "source": [
    "plt.figure(figsize=(7,5))\n",
    "sns.barplot(x='location_state',y=\"order_amt\",data=sales_state,palette='cool')\n",
    "plt.show()"
   ]
  },
  {
   "cell_type": "markdown",
   "id": "55add766",
   "metadata": {},
   "source": [
    "### 3.5 Top 10 cities with highest order amount"
   ]
  },
  {
   "cell_type": "code",
   "execution_count": 26,
   "id": "71b7bcbc",
   "metadata": {},
   "outputs": [],
   "source": [
    "city_sales=rt.groupby(['location_state','location_city']).sum()['order_amt'].reset_index()\n",
    "ten_cities=city_sales.sort_values(by='order_amt',ascending=False)[:10]"
   ]
  },
  {
   "cell_type": "code",
   "execution_count": 27,
   "id": "7397b919",
   "metadata": {},
   "outputs": [
    {
     "data": {
      "text/html": [
       "<div>\n",
       "<style scoped>\n",
       "    .dataframe tbody tr th:only-of-type {\n",
       "        vertical-align: middle;\n",
       "    }\n",
       "\n",
       "    .dataframe tbody tr th {\n",
       "        vertical-align: top;\n",
       "    }\n",
       "\n",
       "    .dataframe thead th {\n",
       "        text-align: right;\n",
       "    }\n",
       "</style>\n",
       "<table border=\"1\" class=\"dataframe\">\n",
       "  <thead>\n",
       "    <tr style=\"text-align: right;\">\n",
       "      <th></th>\n",
       "      <th>location_state</th>\n",
       "      <th>location_city</th>\n",
       "      <th>order_amt</th>\n",
       "    </tr>\n",
       "  </thead>\n",
       "  <tbody>\n",
       "    <tr>\n",
       "      <th>58</th>\n",
       "      <td>Georgia</td>\n",
       "      <td>Atlanta</td>\n",
       "      <td>833805.31</td>\n",
       "    </tr>\n",
       "    <tr>\n",
       "      <th>30</th>\n",
       "      <td>Florida</td>\n",
       "      <td>Miami</td>\n",
       "      <td>671208.66</td>\n",
       "    </tr>\n",
       "    <tr>\n",
       "      <th>1</th>\n",
       "      <td>Alabama</td>\n",
       "      <td>Birmingham</td>\n",
       "      <td>525501.30</td>\n",
       "    </tr>\n",
       "    <tr>\n",
       "      <th>35</th>\n",
       "      <td>Florida</td>\n",
       "      <td>Orlando</td>\n",
       "      <td>415605.32</td>\n",
       "    </tr>\n",
       "    <tr>\n",
       "      <th>50</th>\n",
       "      <td>Florida</td>\n",
       "      <td>Tampa</td>\n",
       "      <td>407783.97</td>\n",
       "    </tr>\n",
       "    <tr>\n",
       "      <th>23</th>\n",
       "      <td>Florida</td>\n",
       "      <td>Jacksonville</td>\n",
       "      <td>384569.13</td>\n",
       "    </tr>\n",
       "    <tr>\n",
       "      <th>16</th>\n",
       "      <td>Florida</td>\n",
       "      <td>Fort Lauderdale</td>\n",
       "      <td>305566.50</td>\n",
       "    </tr>\n",
       "    <tr>\n",
       "      <th>4</th>\n",
       "      <td>Alabama</td>\n",
       "      <td>Mobile</td>\n",
       "      <td>279333.01</td>\n",
       "    </tr>\n",
       "    <tr>\n",
       "      <th>5</th>\n",
       "      <td>Alabama</td>\n",
       "      <td>Montgomery</td>\n",
       "      <td>271968.12</td>\n",
       "    </tr>\n",
       "    <tr>\n",
       "      <th>38</th>\n",
       "      <td>Florida</td>\n",
       "      <td>Pensacola</td>\n",
       "      <td>243321.47</td>\n",
       "    </tr>\n",
       "  </tbody>\n",
       "</table>\n",
       "</div>"
      ],
      "text/plain": [
       "   location_state    location_city  order_amt\n",
       "58        Georgia          Atlanta  833805.31\n",
       "30        Florida            Miami  671208.66\n",
       "1         Alabama       Birmingham  525501.30\n",
       "35        Florida          Orlando  415605.32\n",
       "50        Florida            Tampa  407783.97\n",
       "23        Florida     Jacksonville  384569.13\n",
       "16        Florida  Fort Lauderdale  305566.50\n",
       "4         Alabama           Mobile  279333.01\n",
       "5         Alabama       Montgomery  271968.12\n",
       "38        Florida        Pensacola  243321.47"
      ]
     },
     "execution_count": 27,
     "metadata": {},
     "output_type": "execute_result"
    }
   ],
   "source": [
    "ten_cities"
   ]
  },
  {
   "cell_type": "code",
   "execution_count": 28,
   "id": "60fecf00",
   "metadata": {},
   "outputs": [
    {
     "data": {
      "image/png": "[encoded data removed]",
      "text/plain": [
       "<Figure size 1080x360 with 1 Axes>"
      ]
     },
     "metadata": {
      "needs_background": "light"
     },
     "output_type": "display_data"
    }
   ],
   "source": [
    "plt.figure(figsize=(15,5))\n",
    "sns.barplot(x='location_city',y=\"order_amt\",data=ten_cities,palette='summer')\n",
    "plt.show()"
   ]
  },
  {
   "cell_type": "markdown",
   "id": "975cdaa5",
   "metadata": {},
   "source": [
    "### 3.6 Highest and lowest discounts given"
   ]
  },
  {
   "cell_type": "code",
   "execution_count": 29,
   "id": "b846aee0",
   "metadata": {},
   "outputs": [
    {
     "data": {
      "text/html": [
       "<div>\n",
       "<style scoped>\n",
       "    .dataframe tbody tr th:only-of-type {\n",
       "        vertical-align: middle;\n",
       "    }\n",
       "\n",
       "    .dataframe tbody tr th {\n",
       "        vertical-align: top;\n",
       "    }\n",
       "\n",
       "    .dataframe thead th {\n",
       "        text-align: right;\n",
       "    }\n",
       "</style>\n",
       "<table border=\"1\" class=\"dataframe\">\n",
       "  <thead>\n",
       "    <tr style=\"text-align: right;\">\n",
       "      <th></th>\n",
       "      <th>discount_amt</th>\n",
       "    </tr>\n",
       "  </thead>\n",
       "  <tbody>\n",
       "    <tr>\n",
       "      <th>1</th>\n",
       "      <td>0.33</td>\n",
       "    </tr>\n",
       "    <tr>\n",
       "      <th>3</th>\n",
       "      <td>0.25</td>\n",
       "    </tr>\n",
       "    <tr>\n",
       "      <th>8</th>\n",
       "      <td>0.17</td>\n",
       "    </tr>\n",
       "    <tr>\n",
       "      <th>9</th>\n",
       "      <td>0.36</td>\n",
       "    </tr>\n",
       "    <tr>\n",
       "      <th>10</th>\n",
       "      <td>0.42</td>\n",
       "    </tr>\n",
       "    <tr>\n",
       "      <th>...</th>\n",
       "      <td>...</td>\n",
       "    </tr>\n",
       "    <tr>\n",
       "      <th>75600</th>\n",
       "      <td>0.22</td>\n",
       "    </tr>\n",
       "    <tr>\n",
       "      <th>75601</th>\n",
       "      <td>0.16</td>\n",
       "    </tr>\n",
       "    <tr>\n",
       "      <th>75605</th>\n",
       "      <td>0.34</td>\n",
       "    </tr>\n",
       "    <tr>\n",
       "      <th>75610</th>\n",
       "      <td>0.14</td>\n",
       "    </tr>\n",
       "    <tr>\n",
       "      <th>75613</th>\n",
       "      <td>0.13</td>\n",
       "    </tr>\n",
       "  </tbody>\n",
       "</table>\n",
       "<p>20942 rows × 1 columns</p>\n",
       "</div>"
      ],
      "text/plain": [
       "       discount_amt\n",
       "1              0.33\n",
       "3              0.25\n",
       "8              0.17\n",
       "9              0.36\n",
       "10             0.42\n",
       "...             ...\n",
       "75600          0.22\n",
       "75601          0.16\n",
       "75605          0.34\n",
       "75610          0.14\n",
       "75613          0.13\n",
       "\n",
       "[20942 rows x 1 columns]"
      ]
     },
     "execution_count": 29,
     "metadata": {},
     "output_type": "execute_result"
    }
   ],
   "source": [
    "discount=rt[['discount_amt']]\n",
    "discount.dropna(how='any')\n"
   ]
  },
  {
   "cell_type": "code",
   "execution_count": 30,
   "id": "9f80c6ef",
   "metadata": {},
   "outputs": [],
   "source": [
    "high_discount=float(discount.max()*100)\n",
    "low_discount=float(discount.min()*100)"
   ]
  },
  {
   "cell_type": "code",
   "execution_count": 31,
   "id": "38678579",
   "metadata": {},
   "outputs": [
    {
     "name": "stdout",
     "output_type": "stream",
     "text": [
      "Highest discount given is  50.0 %\n",
      "Lowest discount given is  10.0 %\n"
     ]
    }
   ],
   "source": [
    "print(\"Highest discount given is \",high_discount,\"%\")\n",
    "print(\"Lowest discount given is \",low_discount,\"%\")"
   ]
  },
  {
   "cell_type": "markdown",
   "id": "659562d1",
   "metadata": {},
   "source": [
    "### 3.7 During which month most of the transactions happen"
   ]
  },
  {
   "cell_type": "code",
   "execution_count": 32,
   "id": "51d9de76",
   "metadata": {},
   "outputs": [],
   "source": [
    "rt['month']=rt['transaction_date'].apply(lambda x: x.strftime('%m'))"
   ]
  },
  {
   "cell_type": "code",
   "execution_count": 33,
   "id": "69262d16",
   "metadata": {},
   "outputs": [],
   "source": [
    "rt['month_name']=rt['transaction_date'].dt.month_name().str[:3]"
   ]
  },
  {
   "cell_type": "code",
   "execution_count": 34,
   "id": "67b8eb24",
   "metadata": {},
   "outputs": [
    {
     "data": {
      "text/html": [
       "<div>\n",
       "<style scoped>\n",
       "    .dataframe tbody tr th:only-of-type {\n",
       "        vertical-align: middle;\n",
       "    }\n",
       "\n",
       "    .dataframe tbody tr th {\n",
       "        vertical-align: top;\n",
       "    }\n",
       "\n",
       "    .dataframe thead th {\n",
       "        text-align: right;\n",
       "    }\n",
       "</style>\n",
       "<table border=\"1\" class=\"dataframe\">\n",
       "  <thead>\n",
       "    <tr style=\"text-align: right;\">\n",
       "      <th></th>\n",
       "      <th>month</th>\n",
       "      <th>month_name</th>\n",
       "      <th>num_of_items</th>\n",
       "    </tr>\n",
       "  </thead>\n",
       "  <tbody>\n",
       "    <tr>\n",
       "      <th>0</th>\n",
       "      <td>01</td>\n",
       "      <td>Jan</td>\n",
       "      <td>106600</td>\n",
       "    </tr>\n",
       "    <tr>\n",
       "      <th>1</th>\n",
       "      <td>02</td>\n",
       "      <td>Feb</td>\n",
       "      <td>102861</td>\n",
       "    </tr>\n",
       "    <tr>\n",
       "      <th>2</th>\n",
       "      <td>03</td>\n",
       "      <td>Mar</td>\n",
       "      <td>109861</td>\n",
       "    </tr>\n",
       "    <tr>\n",
       "      <th>3</th>\n",
       "      <td>04</td>\n",
       "      <td>Apr</td>\n",
       "      <td>104425</td>\n",
       "    </tr>\n",
       "    <tr>\n",
       "      <th>4</th>\n",
       "      <td>05</td>\n",
       "      <td>May</td>\n",
       "      <td>109991</td>\n",
       "    </tr>\n",
       "    <tr>\n",
       "      <th>5</th>\n",
       "      <td>06</td>\n",
       "      <td>Jun</td>\n",
       "      <td>104602</td>\n",
       "    </tr>\n",
       "    <tr>\n",
       "      <th>6</th>\n",
       "      <td>07</td>\n",
       "      <td>Jul</td>\n",
       "      <td>109719</td>\n",
       "    </tr>\n",
       "    <tr>\n",
       "      <th>7</th>\n",
       "      <td>08</td>\n",
       "      <td>Aug</td>\n",
       "      <td>111633</td>\n",
       "    </tr>\n",
       "    <tr>\n",
       "      <th>8</th>\n",
       "      <td>09</td>\n",
       "      <td>Sep</td>\n",
       "      <td>103137</td>\n",
       "    </tr>\n",
       "    <tr>\n",
       "      <th>9</th>\n",
       "      <td>10</td>\n",
       "      <td>Oct</td>\n",
       "      <td>214764</td>\n",
       "    </tr>\n",
       "    <tr>\n",
       "      <th>10</th>\n",
       "      <td>11</td>\n",
       "      <td>Nov</td>\n",
       "      <td>104576</td>\n",
       "    </tr>\n",
       "    <tr>\n",
       "      <th>11</th>\n",
       "      <td>12</td>\n",
       "      <td>Dec</td>\n",
       "      <td>113406</td>\n",
       "    </tr>\n",
       "  </tbody>\n",
       "</table>\n",
       "</div>"
      ],
      "text/plain": [
       "   month month_name  num_of_items\n",
       "0     01        Jan        106600\n",
       "1     02        Feb        102861\n",
       "2     03        Mar        109861\n",
       "3     04        Apr        104425\n",
       "4     05        May        109991\n",
       "5     06        Jun        104602\n",
       "6     07        Jul        109719\n",
       "7     08        Aug        111633\n",
       "8     09        Sep        103137\n",
       "9     10        Oct        214764\n",
       "10    11        Nov        104576\n",
       "11    12        Dec        113406"
      ]
     },
     "execution_count": 34,
     "metadata": {},
     "output_type": "execute_result"
    }
   ],
   "source": [
    "count_by_month=rt.groupby(['month','month_name']).sum()['num_of_items'].reset_index()\n",
    "count_by_month.sort_values(by='month')\n"
   ]
  },
  {
   "cell_type": "code",
   "execution_count": 35,
   "id": "d25bd5a9",
   "metadata": {},
   "outputs": [
    {
     "data": {
      "text/plain": [
       "<AxesSubplot:xlabel='month_name', ylabel='num_of_items'>"
      ]
     },
     "execution_count": 35,
     "metadata": {},
     "output_type": "execute_result"
    },
    {
     "data": {
      "image/png": "[encoded data removed]",
      "text/plain": [
       "<Figure size 432x288 with 1 Axes>"
      ]
     },
     "metadata": {
      "needs_background": "light"
     },
     "output_type": "display_data"
    }
   ],
   "source": [
    "sns.lineplot(data=count_by_month,x='month_name',y='num_of_items')"
   ]
  }
 ],
 "metadata": {
  "kernelspec": {
   "display_name": "Python 3 (ipykernel)",
   "language": "python",
   "name": "python3"
  },
  "language_info": {
   "codemirror_mode": {
    "name": "ipython",
    "version": 3
   },
   "file_extension": ".py",
   "mimetype": "text/x-python",
   "name": "python",
   "nbconvert_exporter": "python",
   "pygments_lexer": "ipython3",
   "version": "3.10.4"
  }
 },
 "nbformat": 4,
 "nbformat_minor": 5
}
